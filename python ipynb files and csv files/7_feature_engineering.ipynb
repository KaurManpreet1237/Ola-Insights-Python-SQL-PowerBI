{
 "cells": [
  {
   "cell_type": "code",
   "execution_count": 1,
   "id": "aaafeaa7-7f6a-430e-9622-7fc704a925f0",
   "metadata": {},
   "outputs": [],
   "source": [
    "import pandas as pd\n",
    "import numpy as np\n",
    "import matplotlib.pyplot as plt\n",
    "import seaborn as sns"
   ]
  },
  {
   "cell_type": "code",
   "execution_count": 2,
   "id": "4dea80bc-4f87-4e21-bda4-95269e8cc9b2",
   "metadata": {},
   "outputs": [],
   "source": [
    "from sklearn.preprocessing import LabelEncoder\n",
    "\n",
    "# Load the dataset from the previous step\n",
    "# Replace 'bookings_standardized_normalized.csv' with the actual file path if not in the same directory\n",
    "file_path = 'bookings_standardized_normalized.csv'\n",
    "data_processed = pd.read_csv(file_path)\n",
    "\n",
    "# Create a copy of the dataset to preserve the loaded data\n",
    "data_fe = data_processed.copy()"
   ]
  },
  {
   "cell_type": "code",
   "execution_count": 3,
   "id": "b695ea3a-fcfb-42e0-9b7d-a8154d445ec6",
   "metadata": {},
   "outputs": [],
   "source": [
    "# Step 1: Temporal Features from Datetime\n",
    "# Ensure Datetime is in datetime64 format\n",
    "data_fe['Datetime'] = pd.to_datetime(data_fe['Datetime'], errors='coerce')\n",
    "\n",
    "# Extract Hour, Day of Week, and Is_Weekend\n",
    "data_fe['Hour'] = data_fe['Datetime'].dt.hour\n",
    "data_fe['Day_of_Week'] = data_fe['Datetime'].dt.day_name()\n",
    "data_fe['Is_Weekend'] = data_fe['Datetime'].dt.dayofweek >= 5  # Saturday (5) or Sunday (6)\n",
    "\n",
    "# Create Time_of_Day (Morning, Afternoon, Evening, Night)\n",
    "bins = [0, 6, 12, 18, 24]\n",
    "labels = ['Night', 'Morning', 'Afternoon', 'Evening']\n",
    "data_fe['Time_of_Day'] = pd.cut(data_fe['Hour'], bins=bins, labels=labels, right=False, include_lowest=True)\n",
    "\n",
    "# Convert Day_of_Week and Time_of_Day to category\n",
    "data_fe['Day_of_Week'] = data_fe['Day_of_Week'].astype('category')\n",
    "data_fe['Time_of_Day'] = data_fe['Time_of_Day'].astype('category')"
   ]
  },
  {
   "cell_type": "code",
   "execution_count": 4,
   "id": "5b9820b3-f834-4ebc-9ce1-96f1d4dec044",
   "metadata": {},
   "outputs": [],
   "source": [
    "# Step 2: Location-Based Features\n",
    "# Create Route by combining Pickup_Location and Drop_Location\n",
    "data_fe['Route'] = data_fe['Pickup_Location'] + ' to ' + data_fe['Drop_Location']\n",
    "data_fe['Route'] = data_fe['Route'].astype('string')\n",
    "\n",
    "# Create Is_Same_Location (True if Pickup_Location equals Drop_Location)\n",
    "data_fe['Is_Same_Location'] = data_fe['Pickup_Location'] == data_fe['Drop_Location']\n",
    "data_fe['Is_Same_Location'] = data_fe['Is_Same_Location'].astype('bool')"
   ]
  },
  {
   "cell_type": "code",
   "execution_count": 5,
   "id": "b02d1556-a9cd-4f6f-b6bb-39f4349e7028",
   "metadata": {},
   "outputs": [],
   "source": [
    "# Step 3: Ride Metrics\n",
    "# Calculate Value_per_Distance (handle division by zero)\n",
    "data_fe['Value_per_Distance'] = data_fe['Booking_Value'] / data_fe['Ride_Distance'].replace(0, np.nan)\n",
    "data_fe['Value_per_Distance'] = data_fe['Value_per_Distance'].fillna(0).astype('float64')\n",
    "\n",
    "# Create High_Value_Ride (True if Booking_Value is above 75th percentile)\n",
    "booking_value_threshold = data_fe['Booking_Value'].quantile(0.75)\n",
    "data_fe['High_Value_Ride'] = data_fe['Booking_Value'] > booking_value_threshold\n",
    "data_fe['High_Value_Ride'] = data_fe['High_Value_Ride'].astype('bool')"
   ]
  },
  {
   "cell_type": "code",
   "execution_count": 6,
   "id": "c47835cb-54cf-496c-a05e-311e92af7cc1",
   "metadata": {},
   "outputs": [],
   "source": [
    "# Step 4: Categorical Encoding\n",
    "# One-hot encode Booking_Status, Vehicle_Type, and Payment_Method\n",
    "categorical_columns = ['Booking_Status', 'Vehicle_Type', 'Payment_Method']\n",
    "for col in categorical_columns:\n",
    "    if col in data_fe.columns:\n",
    "        dummies = pd.get_dummies(data_fe[col], prefix=col, drop_first=True)\n",
    "        data_fe = pd.concat([data_fe, dummies], axis=1)\n",
    "\n",
    "# Label encode Incomplete_Rides_Reason (optional, as it’s text-heavy)\n",
    "if 'Incomplete_Rides_Reason' in data_fe.columns:\n",
    "    le = LabelEncoder()\n",
    "    data_fe['Incomplete_Rides_Reason_Encoded'] = le.fit_transform(data_fe['Incomplete_Rides_Reason'].astype(str))\n",
    "    data_fe['Incomplete_Rides_Reason_Encoded'] = data_fe['Incomplete_Rides_Reason_Encoded'].astype('int32')"
   ]
  },
  {
   "cell_type": "code",
   "execution_count": 7,
   "id": "ac6f91d0-2337-4877-b9b9-13cdc0432e57",
   "metadata": {},
   "outputs": [],
   "source": [
    "# Step 5: Handle Canceled_Rides_by_Customer and Canceled_Rides_by_Driver\n",
    "for col in ['Canceled_Rides_by_Customer', 'Canceled_Rides_by_Driver']:\n",
    "    if col in data_fe.columns:\n",
    "        if data_fe[col].dtype == 'string':\n",
    "            print(f\"\\nSkipping {col}: Contains non-numeric data (string).\")\n",
    "        elif data_fe[col].dtype == 'float64':\n",
    "            # Create binary feature for cancellations (True if value > 0)\n",
    "            data_fe[f'{col}_Binary'] = data_fe[col] > 0\n",
    "            data_fe[f'{col}_Binary'] = data_fe[f'{col}_Binary'].astype('bool')\n",
    "            print(f\"\\nCreated binary feature for {col}\")"
   ]
  },
  {
   "cell_type": "code",
   "execution_count": 8,
   "id": "a42d26ae-6682-44c8-a2be-702fe5c01c22",
   "metadata": {},
   "outputs": [
    {
     "name": "stdout",
     "output_type": "stream",
     "text": [
      "\n",
      "New Columns Added:\n"
     ]
    },
    {
     "data": {
      "text/plain": [
       "['Booking_ID',\n",
       " 'Booking_Status',\n",
       " 'Customer_ID',\n",
       " 'Vehicle_Type',\n",
       " 'Pickup_Location',\n",
       " 'Drop_Location',\n",
       " 'V_TAT',\n",
       " 'C_TAT',\n",
       " 'Canceled_Rides_by_Customer',\n",
       " 'Canceled_Rides_by_Driver',\n",
       " 'Incomplete_Rides',\n",
       " 'Incomplete_Rides_Reason',\n",
       " 'Booking_Value',\n",
       " 'Payment_Method',\n",
       " 'Ride_Distance',\n",
       " 'Driver_Ratings',\n",
       " 'Customer_Rating',\n",
       " 'Vehicle Images',\n",
       " 'Datetime',\n",
       " 'V_TAT_std',\n",
       " 'V_TAT_norm',\n",
       " 'C_TAT_std',\n",
       " 'C_TAT_norm',\n",
       " 'Booking_Value_std',\n",
       " 'Booking_Value_norm',\n",
       " 'Ride_Distance_std',\n",
       " 'Ride_Distance_norm',\n",
       " 'Driver_Ratings_std',\n",
       " 'Driver_Ratings_norm',\n",
       " 'Customer_Rating_std',\n",
       " 'Customer_Rating_norm',\n",
       " 'Hour',\n",
       " 'Day_of_Week',\n",
       " 'Is_Weekend',\n",
       " 'Time_of_Day',\n",
       " 'Route',\n",
       " 'Is_Same_Location',\n",
       " 'Value_per_Distance',\n",
       " 'High_Value_Ride',\n",
       " 'Booking_Status_Canceled by Driver',\n",
       " 'Booking_Status_Driver Not Found',\n",
       " 'Booking_Status_Success',\n",
       " 'Vehicle_Type_Bike',\n",
       " 'Vehicle_Type_Mini',\n",
       " 'Vehicle_Type_Prime Plus',\n",
       " 'Vehicle_Type_Prime SUV',\n",
       " 'Vehicle_Type_Prime Sedan',\n",
       " 'Vehicle_Type_eBike',\n",
       " 'Payment_Method_Credit Card',\n",
       " 'Payment_Method_Debit Card',\n",
       " 'Payment_Method_UPI',\n",
       " 'Incomplete_Rides_Reason_Encoded']"
      ]
     },
     "metadata": {},
     "output_type": "display_data"
    },
    {
     "name": "stdout",
     "output_type": "stream",
     "text": [
      "\n",
      "Sample Data with New Features:\n"
     ]
    },
    {
     "data": {
      "text/html": [
       "<div>\n",
       "<style scoped>\n",
       "    .dataframe tbody tr th:only-of-type {\n",
       "        vertical-align: middle;\n",
       "    }\n",
       "\n",
       "    .dataframe tbody tr th {\n",
       "        vertical-align: top;\n",
       "    }\n",
       "\n",
       "    .dataframe thead th {\n",
       "        text-align: right;\n",
       "    }\n",
       "</style>\n",
       "<table border=\"1\" class=\"dataframe\">\n",
       "  <thead>\n",
       "    <tr style=\"text-align: right;\">\n",
       "      <th></th>\n",
       "      <th>Datetime</th>\n",
       "      <th>Hour</th>\n",
       "      <th>Day_of_Week</th>\n",
       "      <th>Is_Weekend</th>\n",
       "      <th>Time_of_Day</th>\n",
       "      <th>Route</th>\n",
       "      <th>Is_Same_Location</th>\n",
       "      <th>Value_per_Distance</th>\n",
       "      <th>High_Value_Ride</th>\n",
       "    </tr>\n",
       "  </thead>\n",
       "  <tbody>\n",
       "    <tr>\n",
       "      <th>0</th>\n",
       "      <td>2024-07-26 14:00:00</td>\n",
       "      <td>14</td>\n",
       "      <td>Friday</td>\n",
       "      <td>False</td>\n",
       "      <td>Afternoon</td>\n",
       "      <td>Tumkur Road to RT Nagar</td>\n",
       "      <td>False</td>\n",
       "      <td>0.000000</td>\n",
       "      <td>False</td>\n",
       "    </tr>\n",
       "    <tr>\n",
       "      <th>1</th>\n",
       "      <td>2024-07-25 22:20:00</td>\n",
       "      <td>22</td>\n",
       "      <td>Thursday</td>\n",
       "      <td>False</td>\n",
       "      <td>Evening</td>\n",
       "      <td>Magadi Road to Varthur</td>\n",
       "      <td>False</td>\n",
       "      <td>12.153846</td>\n",
       "      <td>False</td>\n",
       "    </tr>\n",
       "    <tr>\n",
       "      <th>2</th>\n",
       "      <td>2024-07-30 19:59:00</td>\n",
       "      <td>19</td>\n",
       "      <td>Tuesday</td>\n",
       "      <td>False</td>\n",
       "      <td>Evening</td>\n",
       "      <td>Sahakar Nagar to Varthur</td>\n",
       "      <td>False</td>\n",
       "      <td>9.650000</td>\n",
       "      <td>False</td>\n",
       "    </tr>\n",
       "    <tr>\n",
       "      <th>3</th>\n",
       "      <td>2024-07-22 03:15:00</td>\n",
       "      <td>3</td>\n",
       "      <td>Monday</td>\n",
       "      <td>False</td>\n",
       "      <td>Night</td>\n",
       "      <td>HSR Layout to Vijayanagar</td>\n",
       "      <td>False</td>\n",
       "      <td>0.000000</td>\n",
       "      <td>False</td>\n",
       "    </tr>\n",
       "    <tr>\n",
       "      <th>4</th>\n",
       "      <td>2024-07-02 09:02:00</td>\n",
       "      <td>9</td>\n",
       "      <td>Tuesday</td>\n",
       "      <td>False</td>\n",
       "      <td>Morning</td>\n",
       "      <td>Rajajinagar to Chamarajpet</td>\n",
       "      <td>False</td>\n",
       "      <td>18.266667</td>\n",
       "      <td>True</td>\n",
       "    </tr>\n",
       "  </tbody>\n",
       "</table>\n",
       "</div>"
      ],
      "text/plain": [
       "             Datetime  Hour Day_of_Week  Is_Weekend Time_of_Day  \\\n",
       "0 2024-07-26 14:00:00    14      Friday       False   Afternoon   \n",
       "1 2024-07-25 22:20:00    22    Thursday       False     Evening   \n",
       "2 2024-07-30 19:59:00    19     Tuesday       False     Evening   \n",
       "3 2024-07-22 03:15:00     3      Monday       False       Night   \n",
       "4 2024-07-02 09:02:00     9     Tuesday       False     Morning   \n",
       "\n",
       "                        Route  Is_Same_Location  Value_per_Distance  \\\n",
       "0     Tumkur Road to RT Nagar             False            0.000000   \n",
       "1      Magadi Road to Varthur             False           12.153846   \n",
       "2    Sahakar Nagar to Varthur             False            9.650000   \n",
       "3   HSR Layout to Vijayanagar             False            0.000000   \n",
       "4  Rajajinagar to Chamarajpet             False           18.266667   \n",
       "\n",
       "   High_Value_Ride  \n",
       "0            False  \n",
       "1            False  \n",
       "2            False  \n",
       "3            False  \n",
       "4             True  "
      ]
     },
     "metadata": {},
     "output_type": "display_data"
    },
    {
     "name": "stdout",
     "output_type": "stream",
     "text": [
      "\n",
      "Data Types of New Features:\n"
     ]
    },
    {
     "data": {
      "text/plain": [
       "Hour                           int32\n",
       "Day_of_Week                 category\n",
       "Is_Weekend                      bool\n",
       "Time_of_Day                 category\n",
       "Route                 string[python]\n",
       "Is_Same_Location                bool\n",
       "Value_per_Distance           float64\n",
       "High_Value_Ride                 bool\n",
       "dtype: object"
      ]
     },
     "metadata": {},
     "output_type": "display_data"
    }
   ],
   "source": [
    "# Step 6: Validate new features\n",
    "print(\"\\nNew Columns Added:\")\n",
    "display(data_fe.columns.tolist())\n",
    "print(\"\\nSample Data with New Features:\")\n",
    "display(data_fe[['Datetime', 'Hour', 'Day_of_Week', 'Is_Weekend', 'Time_of_Day', \n",
    "                 'Route', 'Is_Same_Location', 'Value_per_Distance', 'High_Value_Ride']].head())\n",
    "\n",
    "print(\"\\nData Types of New Features:\")\n",
    "display(data_fe[['Hour', 'Day_of_Week', 'Is_Weekend', 'Time_of_Day', \n",
    "                 'Route', 'Is_Same_Location', 'Value_per_Distance', 'High_Value_Ride']].dtypes)"
   ]
  },
  {
   "cell_type": "code",
   "execution_count": 9,
   "id": "39da388c-61d5-480c-b98f-14ae193bdaad",
   "metadata": {},
   "outputs": [
    {
     "name": "stdout",
     "output_type": "stream",
     "text": [
      "Dataset with feature engineering saved as 'bookings_feature_engineered.csv'\n"
     ]
    }
   ],
   "source": [
    "# Step 7: Save the dataset with new features\n",
    "data_fe.to_csv('bookings_feature_engineered.csv', index=False)\n",
    "print(\"Dataset with feature engineering saved as 'bookings_feature_engineered.csv'\")"
   ]
  }
 ],
 "metadata": {
  "kernelspec": {
   "display_name": "Python 3 (ipykernel)",
   "language": "python",
   "name": "python3"
  },
  "language_info": {
   "codemirror_mode": {
    "name": "ipython",
    "version": 3
   },
   "file_extension": ".py",
   "mimetype": "text/x-python",
   "name": "python",
   "nbconvert_exporter": "python",
   "pygments_lexer": "ipython3",
   "version": "3.13.5"
  }
 },
 "nbformat": 4,
 "nbformat_minor": 5
}
